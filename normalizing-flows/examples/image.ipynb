{
 "cells": [
  {
   "cell_type": "markdown",
   "metadata": {},
   "source": [
    "# Learn Distribution given by an Image using Real NVP"
   ]
  },
  {
   "cell_type": "code",
   "execution_count": null,
   "metadata": {},
   "outputs": [],
   "source": [
    "# Import required packages\n",
    "import torch\n",
    "import numpy as np\n",
    "import normflows as nf\n",
    "\n",
    "from matplotlib import pyplot as plt\n",
    "from tqdm import tqdm"
   ]
  },
  {
   "cell_type": "code",
   "execution_count": null,
   "metadata": {},
   "outputs": [],
   "source": [
    "# Set up model\n",
    "\n",
    "# Define flows\n",
    "K = 32\n",
    "#torch.manual_seed(0)\n",
    "\n",
    "b = torch.tensor([0, 1])\n",
    "flows = []\n",
    "for i in range(K):\n",
    "    s = nf.nets.MLP([2, 4, 4, 2])\n",
    "    t = nf.nets.MLP([2, 4, 4, 2])\n",
    "    if i % 2 == 0:\n",
    "        flows += [nf.flows.MaskedAffineFlow(b, t, s)]\n",
    "    else:\n",
    "        flows += [nf.flows.MaskedAffineFlow(1 - b, t, s)]\n",
    "\n",
    "# Set target and base distribution\n",
    "img = 1 - plt.imread('img.png')[:, :, 0] # Specify the path to your image here\n",
    "target = nf.distributions.ImagePrior(img)\n",
    "q0 = nf.distributions.DiagGaussian(2)\n",
    "\n",
    "# Construct flow model\n",
    "nfm = nf.NormalizingFlow(q0=q0, flows=flows, p=target)\n",
    "\n",
    "# Move model on GPU if available\n",
    "enable_cuda = True\n",
    "device = torch.device('cuda' if torch.cuda.is_available() and enable_cuda else 'cpu')\n",
    "nfm = nfm.to(device)\n",
    "nfm = nfm.double()"
   ]
  },
  {
   "cell_type": "code",
   "execution_count": null,
   "metadata": {
    "scrolled": false
   },
   "outputs": [],
   "source": [
    "# Plot prior distribution\n",
    "grid_size = 200\n",
    "xx, yy = torch.meshgrid(torch.linspace(-3, 3, grid_size), torch.linspace(-3, 3, grid_size))\n",
    "zz = torch.cat([xx.unsqueeze(2), yy.unsqueeze(2)], 2).view(-1, 2)\n",
    "zz = zz.double().to(device)\n",
    "log_prob = target.log_prob(zz).to('cpu').view(*xx.shape)\n",
    "prob = torch.exp(log_prob)\n",
    "\n",
    "plt.figure(figsize=(10, 10))\n",
    "plt.pcolormesh(xx, yy, prob.data.numpy())\n",
    "plt.show()\n",
    "\n",
    "# Plot initial posterior distribution\n",
    "log_prob = nfm.log_prob(zz).to('cpu').view(*xx.shape)\n",
    "prob = torch.exp(log_prob)\n",
    "prob[torch.isnan(prob)] = 0\n",
    "\n",
    "plt.figure(figsize=(10, 10))\n",
    "plt.pcolormesh(xx, yy, prob.data.numpy())\n",
    "plt.show()"
   ]
  },
  {
   "cell_type": "code",
   "execution_count": null,
   "metadata": {
    "scrolled": false
   },
   "outputs": [],
   "source": [
    "# Train model\n",
    "max_iter = 10000\n",
    "num_samples = 2 * 16\n",
    "show_iter = 2000\n",
    "\n",
    "\n",
    "loss_hist = np.array([])\n",
    "\n",
    "optimizer = torch.optim.Adam(nfm.parameters(), lr=1e-4, weight_decay=1e-4)\n",
    "for it in tqdm(range(max_iter)):\n",
    "    optimizer.zero_grad()\n",
    "    x = nfm.p.sample(num_samples).double()\n",
    "    loss = nfm.forward_kld(x)\n",
    "    loss.backward()\n",
    "    optimizer.step()\n",
    "    \n",
    "    loss_hist = np.append(loss_hist, loss.to('cpu').data.numpy())\n",
    "    \n",
    "    # Plot learned distribution\n",
    "    if (it + 1) % show_iter == 0:\n",
    "        log_prob = nfm.log_prob(zz).to('cpu').view(*xx.shape)\n",
    "        prob = torch.exp(log_prob)\n",
    "        prob[torch.isnan(prob)] = 0\n",
    "\n",
    "        plt.figure(figsize=(10, 10))\n",
    "        plt.pcolormesh(xx, yy, prob.data.numpy())\n",
    "        plt.show()\n",
    "\n",
    "plt.figure(figsize=(10, 10))\n",
    "plt.plot(loss_hist, label='loss')\n",
    "plt.legend()\n",
    "plt.show()"
   ]
  },
  {
   "cell_type": "code",
   "execution_count": null,
   "metadata": {},
   "outputs": [],
   "source": [
    "# Plot learned distribution\n",
    "log_prob = nfm.log_prob(zz).to('cpu').view(*xx.shape)\n",
    "prob = torch.exp(log_prob)\n",
    "prob[torch.isnan(prob)] = 0\n",
    "\n",
    "plt.figure(figsize=(10, 10))\n",
    "plt.pcolormesh(xx, yy, prob.data.numpy())\n",
    "plt.show()"
   ]
  }
 ],
 "metadata": {
  "kernelspec": {
   "display_name": "Python 3 (ipykernel)",
   "language": "python",
   "name": "python3"
  },
  "language_info": {
   "codemirror_mode": {
    "name": "ipython",
    "version": 3
   },
   "file_extension": ".py",
   "mimetype": "text/x-python",
   "name": "python",
   "nbconvert_exporter": "python",
   "pygments_lexer": "ipython3",
   "version": "3.7.11"
  }
 },
 "nbformat": 4,
 "nbformat_minor": 4
}
