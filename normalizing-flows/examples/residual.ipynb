{
 "cells": [
  {
   "cell_type": "markdown",
   "metadata": {
    "pycharm": {
     "name": "#%% md\n"
    }
   },
   "source": [
    "# Residual Flow"
   ]
  },
  {
   "cell_type": "code",
   "execution_count": null,
   "metadata": {
    "pycharm": {
     "name": "#%%\n"
    }
   },
   "outputs": [],
   "source": [
    "# Import required packages\n",
    "import torch\n",
    "import numpy as np\n",
    "import normflows as nf\n",
    "\n",
    "from sklearn.datasets import make_moons\n",
    "\n",
    "from matplotlib import pyplot as plt\n",
    "\n",
    "from tqdm import tqdm"
   ]
  },
  {
   "cell_type": "code",
   "execution_count": null,
   "metadata": {
    "pycharm": {
     "name": "#%%\n"
    },
    "scrolled": false
   },
   "outputs": [],
   "source": [
    "# Set up model\n",
    "\n",
    "# Define flows\n",
    "K = 16\n",
    "torch.manual_seed(0)\n",
    "\n",
    "latent_size = 2\n",
    "hidden_units = 128\n",
    "hidden_layers = 3\n",
    "\n",
    "flows = []\n",
    "for i in range(K):\n",
    "    net = nf.nets.LipschitzMLP([latent_size] + [hidden_units] * (hidden_layers - 1) + [latent_size],\n",
    "                               init_zeros=True, lipschitz_const=0.9)\n",
    "    flows += [nf.flows.Residual(net, reduce_memory=True)]\n",
    "    flows += [nf.flows.ActNorm(latent_size)]\n",
    "\n",
    "# Set prior and q0\n",
    "q0 = nf.distributions.DiagGaussian(2, trainable=False)\n",
    "    \n",
    "# Construct flow model\n",
    "nfm = nf.NormalizingFlow(q0=q0, flows=flows)\n",
    "\n",
    "# Move model on GPU if available\n",
    "enable_cuda = True\n",
    "device = torch.device('cuda' if torch.cuda.is_available() and enable_cuda else 'cpu')\n",
    "nfm = nfm.to(device)\n",
    "\n",
    "# Initialize ActNorm\n",
    "x_np, _ = make_moons(2 ** 9, noise=0.1)\n",
    "x = torch.tensor(x_np).float().to(device)\n",
    "_ = nfm.log_prob(x)"
   ]
  },
  {
   "cell_type": "code",
   "execution_count": null,
   "metadata": {
    "pycharm": {
     "name": "#%%\n"
    },
    "scrolled": false
   },
   "outputs": [],
   "source": [
    "# Plot target distribution\n",
    "x_np, _ = make_moons(2 ** 20, noise=0.1)\n",
    "plt.figure(figsize=(15, 15))\n",
    "plt.hist2d(x_np[:, 0], x_np[:, 1], bins=200)\n",
    "plt.show()\n",
    "\n",
    "# Plot initial flow distribution\n",
    "grid_size = 100\n",
    "xx, yy = torch.meshgrid(torch.linspace(-1.5, 2.5, grid_size), torch.linspace(-2, 2, grid_size))\n",
    "zz = torch.cat([xx.unsqueeze(2), yy.unsqueeze(2)], 2).view(-1, 2)\n",
    "zz = zz.to(device)\n",
    "\n",
    "nfm.eval()\n",
    "log_prob = nfm.log_prob(zz).to('cpu').view(*xx.shape)\n",
    "nfm.train()\n",
    "prob = torch.exp(log_prob)\n",
    "prob[torch.isnan(prob)] = 0\n",
    "\n",
    "plt.figure(figsize=(15, 15))\n",
    "plt.pcolormesh(xx, yy, prob.data.numpy())\n",
    "plt.gca().set_aspect('equal', 'box')\n",
    "plt.show()"
   ]
  },
  {
   "cell_type": "code",
   "execution_count": null,
   "metadata": {
    "pycharm": {
     "name": "#%%\n"
    },
    "scrolled": false
   },
   "outputs": [],
   "source": [
    "# Train model\n",
    "max_iter = 20000\n",
    "num_samples = 2 ** 9\n",
    "show_iter = 500\n",
    "\n",
    "\n",
    "loss_hist = np.array([])\n",
    "\n",
    "optimizer = torch.optim.Adam(nfm.parameters(), lr=3e-4, weight_decay=1e-5)\n",
    "for it in tqdm(range(max_iter)):\n",
    "    optimizer.zero_grad()\n",
    "    \n",
    "    # Get training samples\n",
    "    x_np, _ = make_moons(num_samples, noise=0.1)\n",
    "    x = torch.tensor(x_np).float().to(device)\n",
    "    \n",
    "    # Compute loss\n",
    "    loss = nfm.forward_kld(x)\n",
    "    \n",
    "    # Do backprop and optimizer step\n",
    "    if ~(torch.isnan(loss) | torch.isinf(loss)):\n",
    "        loss.backward()\n",
    "        optimizer.step()\n",
    "    \n",
    "    # Make layers Lipschitz continuous\n",
    "    nf.utils.update_lipschitz(nfm, 50)\n",
    "    \n",
    "    # Log loss\n",
    "    loss_hist = np.append(loss_hist, loss.to('cpu').data.numpy())\n",
    "    \n",
    "    # Plot learned distribution\n",
    "    if (it + 1) % show_iter == 0:\n",
    "        nfm.eval()\n",
    "        log_prob = nfm.log_prob(zz)\n",
    "        nfm.train()\n",
    "        prob = torch.exp(log_prob.to('cpu').view(*xx.shape))\n",
    "        prob[torch.isnan(prob)] = 0\n",
    "\n",
    "        plt.figure(figsize=(15, 15))\n",
    "        plt.pcolormesh(xx, yy, prob.data.numpy())\n",
    "        plt.gca().set_aspect('equal', 'box')\n",
    "        plt.show()\n",
    "\n",
    "# Plot loss\n",
    "plt.figure(figsize=(10, 10))\n",
    "plt.plot(loss_hist, label='loss')\n",
    "plt.legend()\n",
    "plt.show()"
   ]
  },
  {
   "cell_type": "code",
   "execution_count": null,
   "metadata": {
    "pycharm": {
     "name": "#%%\n"
    }
   },
   "outputs": [],
   "source": [
    "# Plot learned distribution\n",
    "nfm.eval()\n",
    "log_prob = nfm.log_prob(zz).to('cpu').view(*xx.shape)\n",
    "nfm.train()\n",
    "prob = torch.exp(log_prob)\n",
    "prob[torch.isnan(prob)] = 0\n",
    "\n",
    "plt.figure(figsize=(15, 15))\n",
    "plt.pcolormesh(xx, yy, prob.data.numpy())\n",
    "plt.gca().set_aspect('equal', 'box')\n",
    "plt.show()"
   ]
  }
 ],
 "metadata": {
  "kernelspec": {
   "display_name": "Python 3 (ipykernel)",
   "language": "python",
   "name": "python3"
  },
  "language_info": {
   "codemirror_mode": {
    "name": "ipython",
    "version": 3
   },
   "file_extension": ".py",
   "mimetype": "text/x-python",
   "name": "python",
   "nbconvert_exporter": "python",
   "pygments_lexer": "ipython3",
   "version": "3.7.11"
  }
 },
 "nbformat": 4,
 "nbformat_minor": 4
}
